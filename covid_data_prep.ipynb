{
 "metadata": {
  "language_info": {
   "codemirror_mode": {
    "name": "ipython",
    "version": 3
   },
   "file_extension": ".py",
   "mimetype": "text/x-python",
   "name": "python",
   "nbconvert_exporter": "python",
   "pygments_lexer": "ipython3",
   "version": "3.8.5-final"
  },
  "orig_nbformat": 2,
  "kernelspec": {
   "name": "python3",
   "display_name": "Python 3.8.5 64-bit (conda)",
   "metadata": {
    "interpreter": {
     "hash": "6d4cbe4fe6a33e4d72c9a2990f07f1aeb20aae8182e4dceeb23ed7c7096de238"
    }
   }
  }
 },
 "nbformat": 4,
 "nbformat_minor": 2,
 "cells": [
  {
   "cell_type": "code",
   "execution_count": 2,
   "metadata": {},
   "outputs": [],
   "source": [
    "# Dependencies\n",
    "import pandas as pd\n",
    "#import pycountry_convert as pc"
   ]
  },
  {
   "cell_type": "code",
   "execution_count": 5,
   "metadata": {},
   "outputs": [
    {
     "output_type": "execute_result",
     "data": {
      "text/plain": [
       "      location country_code   latitude   longitude  confirmed    dead  \\\n",
       "0       Mexico           mx  23.634501 -102.552784    2175462  195908   \n",
       "1       Poland           pl  51.919438   19.145136    1984248   48388   \n",
       "2         Peru           pe  -9.189967  -75.015152    1443521   49706   \n",
       "3  Netherlands           nl  52.132633    5.291266    1179612   16198   \n",
       "4         Iran           ir  32.427908   53.688046    1778645   61581   \n",
       "\n",
       "   recovered                           updated  \n",
       "0    1720430  2021-03-19 01:45:08.726822+00:00  \n",
       "1    1603832  2021-03-19 01:45:08.726822+00:00  \n",
       "2    1355792  2021-03-19 01:45:08.726822+00:00  \n",
       "3          0  2021-03-19 01:45:08.726822+00:00  \n",
       "4    1521377  2021-03-19 01:45:08.726822+00:00  "
      ],
      "text/html": "<div>\n<style scoped>\n    .dataframe tbody tr th:only-of-type {\n        vertical-align: middle;\n    }\n\n    .dataframe tbody tr th {\n        vertical-align: top;\n    }\n\n    .dataframe thead th {\n        text-align: right;\n    }\n</style>\n<table border=\"1\" class=\"dataframe\">\n  <thead>\n    <tr style=\"text-align: right;\">\n      <th></th>\n      <th>location</th>\n      <th>country_code</th>\n      <th>latitude</th>\n      <th>longitude</th>\n      <th>confirmed</th>\n      <th>dead</th>\n      <th>recovered</th>\n      <th>updated</th>\n    </tr>\n  </thead>\n  <tbody>\n    <tr>\n      <th>0</th>\n      <td>Mexico</td>\n      <td>mx</td>\n      <td>23.634501</td>\n      <td>-102.552784</td>\n      <td>2175462</td>\n      <td>195908</td>\n      <td>1720430</td>\n      <td>2021-03-19 01:45:08.726822+00:00</td>\n    </tr>\n    <tr>\n      <th>1</th>\n      <td>Poland</td>\n      <td>pl</td>\n      <td>51.919438</td>\n      <td>19.145136</td>\n      <td>1984248</td>\n      <td>48388</td>\n      <td>1603832</td>\n      <td>2021-03-19 01:45:08.726822+00:00</td>\n    </tr>\n    <tr>\n      <th>2</th>\n      <td>Peru</td>\n      <td>pe</td>\n      <td>-9.189967</td>\n      <td>-75.015152</td>\n      <td>1443521</td>\n      <td>49706</td>\n      <td>1355792</td>\n      <td>2021-03-19 01:45:08.726822+00:00</td>\n    </tr>\n    <tr>\n      <th>3</th>\n      <td>Netherlands</td>\n      <td>nl</td>\n      <td>52.132633</td>\n      <td>5.291266</td>\n      <td>1179612</td>\n      <td>16198</td>\n      <td>0</td>\n      <td>2021-03-19 01:45:08.726822+00:00</td>\n    </tr>\n    <tr>\n      <th>4</th>\n      <td>Iran</td>\n      <td>ir</td>\n      <td>32.427908</td>\n      <td>53.688046</td>\n      <td>1778645</td>\n      <td>61581</td>\n      <td>1521377</td>\n      <td>2021-03-19 01:45:08.726822+00:00</td>\n    </tr>\n  </tbody>\n</table>\n</div>"
     },
     "metadata": {},
     "execution_count": 5
    }
   ],
   "source": [
    "# Path to covid data file\n",
    "covid_data_file = \"raw/covid_countries.csv\"\n",
    "\n",
    "# Read csv into a dataframe\n",
    "covid_data = pd.read_csv(covid_data_file)\n",
    "\n",
    "covid_data.head()"
   ]
  },
  {
   "cell_type": "code",
   "execution_count": null,
   "metadata": {},
   "outputs": [],
   "source": [
    "#Add column for Continent\n",
    "covid_data[\"continent\"] = \"\""
   ]
  },
  {
   "cell_type": "code",
   "execution_count": null,
   "metadata": {},
   "outputs": [],
   "source": [
    "#convert country_code 2 digit into UPPER case\n",
    "covid_data[\"country_code\"]=  covid_data[\"country_code\"].str.upper()"
   ]
  },
  {
   "cell_type": "code",
   "execution_count": null,
   "metadata": {},
   "outputs": [],
   "source": [
    "#Determine continent for a given country \n",
    "for index, row in covid_data.iterrows():\n",
    "    try:\n",
    "        # Deriving continent code based on \"2 digit country code\"\n",
    "        continent_code = pc.country_alpha2_to_continent_code(row[\"country_code\"].upper())\n",
    "        # convert c \"2 digit country code\" to \"3 digit country code\"\n",
    "        covid_data.loc[index,\"Country Code\"] = pc.country_name_to_country_alpha3(row[\"location\"])\n",
    "       \n",
    "        # print(continent_code)\n",
    "        covid_data.loc[index, \"continent\"] = continent_code\n",
    "    except(KeyError, IndexError):\n",
    "        print(\"Unable to determine continent code\")"
   ]
  },
  {
   "cell_type": "code",
   "execution_count": null,
   "metadata": {},
   "outputs": [],
   "source": [
    "# Replace empty string with NaN\n",
    "covid_data.replace(\"\", np.nan, inplace=True)\n",
    "\n",
    "# Fill NaN values with 'OTH'\n",
    "covid_data[\"continent\"].fillna(\"OTH\", inplace = True)"
   ]
  },
  {
   "cell_type": "code",
   "execution_count": null,
   "metadata": {},
   "outputs": [],
   "source": []
  }
 ]
}