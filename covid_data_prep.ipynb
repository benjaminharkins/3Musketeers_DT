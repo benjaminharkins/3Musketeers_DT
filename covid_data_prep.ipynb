{
 "metadata": {
  "language_info": {
   "codemirror_mode": {
    "name": "ipython",
    "version": 3
   },
   "file_extension": ".py",
   "mimetype": "text/x-python",
   "name": "python",
   "nbconvert_exporter": "python",
   "pygments_lexer": "ipython3",
   "version": "3.6.10-final"
  },
  "orig_nbformat": 2,
  "kernelspec": {
   "name": "python3",
   "display_name": "Python 3",
   "language": "python"
  }
 },
 "nbformat": 4,
 "nbformat_minor": 2,
 "cells": [
  {
   "cell_type": "code",
   "execution_count": 43,
   "metadata": {},
   "outputs": [],
   "source": [
    "# Dependencies\n",
    "import matplotlib.pyplot as plt\n",
    "import pandas as pd\n",
    "import numpy as np\n",
    "import requests\n",
    "import time\n",
    "from scipy.stats import linregress\n",
    "from pprint import pprint\n",
    "import pycountry_convert as pc"
   ]
  },
  {
   "cell_type": "code",
   "execution_count": 44,
   "metadata": {},
   "outputs": [],
   "source": [
    "# Study data files\n",
    "outputfile = \"raw/covid_countries.csv\"\n",
    "gdpoutputfile = \"resources/gdp_3y_data.csv\"\n",
    "# Read COVID data and the study results\n",
    "covid_data= pd.read_csv(outputfile)\n",
    "# Read GDP  data and the study results\n",
    "gdp_data = pd.read_csv(gdpoutputfile)\n",
    "#Add additional Columns and compute\n",
    "covid_data[\"continent\"]=\"\"\n",
    "covid_data[\"Country Code\"]=\"\"\n",
    "#covid_data[\"deadpercentage\"]=\"\"\n",
    "#covid_data[\"recoverypercentage\"]=\"\"\n",
    "#Calculate Death/Recovery percentages\n",
    "#covid_data[\"deadpercentage\"]=covid_data[\"dead\"]/covid_data[\"confirmed\"]*100\n",
    "#covid_data[\"recoverypercentage\"]=covid_data[\"recovered\"]/covid_data[\"confirmed\"]*100\n",
    "#convert country_code 2 digit into UPPER case\n",
    "covid_data[\"country_code\"]=  covid_data[\"country_code\"].str.upper()\n",
    "#covid_data.head(100)"
   ]
  },
  {
   "cell_type": "code",
   "execution_count": 45,
   "metadata": {},
   "outputs": [
    {
     "output_type": "stream",
     "name": "stdout",
     "text": [
      "Unable to determine continent code\n",
      "Unable to determine continent code\n",
      "Unable to determine continent code\n",
      "Unable to determine continent code\n",
      "Unable to determine continent code\n",
      "Unable to determine continent code\n",
      "Unable to determine continent code\n",
      "Unable to determine continent code\n",
      "Unable to determine continent code\n",
      "Unable to determine continent code\n",
      "Unable to determine continent code\n",
      "Unable to determine continent code\n",
      "Unable to determine continent code\n",
      "Unable to determine continent code\n",
      "Unable to determine continent code\n",
      "Unable to determine continent code\n",
      "Unable to determine continent code\n",
      "Unable to determine continent code\n",
      "Unable to determine continent code\n",
      "Unable to determine continent code\n",
      "Unable to determine continent code\n",
      "Unable to determine continent code\n",
      "Unable to determine continent code\n"
     ]
    },
    {
     "output_type": "execute_result",
     "data": {
      "text/plain": [
       "   Unnamed: 0 Country Name Country Code          2017          2018  \\\n",
       "0           1  Afghanistan          AFG  1.886995e+10  1.835388e+10   \n",
       "1           2       Angola          AGO  1.221238e+11  1.013532e+11   \n",
       "2           3      Albania          ALB  1.301969e+10  1.514702e+10   \n",
       "3           4      Andorra          AND  3.000181e+09  3.218316e+09   \n",
       "4           5   Arab World          ARB  2.516121e+12  2.771384e+12   \n",
       "\n",
       "           2019   Average GDP  \n",
       "0  1.929110e+10  1.883831e+10  \n",
       "1  8.881570e+10  1.040976e+11  \n",
       "2  1.527918e+10  1.448197e+10  \n",
       "3  3.154058e+09  3.124185e+09  \n",
       "4  2.817415e+12  2.701640e+12  "
      ],
      "text/html": "<div>\n<style scoped>\n    .dataframe tbody tr th:only-of-type {\n        vertical-align: middle;\n    }\n\n    .dataframe tbody tr th {\n        vertical-align: top;\n    }\n\n    .dataframe thead th {\n        text-align: right;\n    }\n</style>\n<table border=\"1\" class=\"dataframe\">\n  <thead>\n    <tr style=\"text-align: right;\">\n      <th></th>\n      <th>Unnamed: 0</th>\n      <th>Country Name</th>\n      <th>Country Code</th>\n      <th>2017</th>\n      <th>2018</th>\n      <th>2019</th>\n      <th>Average GDP</th>\n    </tr>\n  </thead>\n  <tbody>\n    <tr>\n      <th>0</th>\n      <td>1</td>\n      <td>Afghanistan</td>\n      <td>AFG</td>\n      <td>1.886995e+10</td>\n      <td>1.835388e+10</td>\n      <td>1.929110e+10</td>\n      <td>1.883831e+10</td>\n    </tr>\n    <tr>\n      <th>1</th>\n      <td>2</td>\n      <td>Angola</td>\n      <td>AGO</td>\n      <td>1.221238e+11</td>\n      <td>1.013532e+11</td>\n      <td>8.881570e+10</td>\n      <td>1.040976e+11</td>\n    </tr>\n    <tr>\n      <th>2</th>\n      <td>3</td>\n      <td>Albania</td>\n      <td>ALB</td>\n      <td>1.301969e+10</td>\n      <td>1.514702e+10</td>\n      <td>1.527918e+10</td>\n      <td>1.448197e+10</td>\n    </tr>\n    <tr>\n      <th>3</th>\n      <td>4</td>\n      <td>Andorra</td>\n      <td>AND</td>\n      <td>3.000181e+09</td>\n      <td>3.218316e+09</td>\n      <td>3.154058e+09</td>\n      <td>3.124185e+09</td>\n    </tr>\n    <tr>\n      <th>4</th>\n      <td>5</td>\n      <td>Arab World</td>\n      <td>ARB</td>\n      <td>2.516121e+12</td>\n      <td>2.771384e+12</td>\n      <td>2.817415e+12</td>\n      <td>2.701640e+12</td>\n    </tr>\n  </tbody>\n</table>\n</div>"
     },
     "metadata": {},
     "execution_count": 45
    }
   ],
   "source": [
    "#Determine continent for a given country \n",
    "for index, row in covid_data.iterrows():\n",
    "    try:\n",
    "        # Deriving continent code based on \"2 digit country code\"\n",
    "        continent_code = pc.country_alpha2_to_continent_code(row[\"country_code\"].upper())\n",
    "        # convert c \"2 digit country code\" to \"3 digit country code\"\n",
    "        covid_data.loc[index,\"Country Code\"] = pc.country_name_to_country_alpha3(row[\"location\"])\n",
    "       \n",
    "        #print(continent_code)\n",
    "        covid_data.loc[index, \"continent\"] = continent_code\n",
    "    except(KeyError, IndexError):\n",
    "        print(\"Unable to determine continent code\")\n",
    "covid_data.replace('', np.nan, inplace=True)\n",
    "covid_data[\"continent\"].fillna(\"OTH\", inplace = True)\n",
    "covid_group = covid_data.groupby(['continent']).sum()\n",
    "# Merge two files and add GDP information .\n",
    "covid_data.rename(columns = {'location':'Country Name'}, inplace = True)\n",
    "gdp_data.head()\n"
   ]
  },
  {
   "cell_type": "code",
   "execution_count": 46,
   "metadata": {},
   "outputs": [
    {
     "output_type": "stream",
     "name": "stdout",
     "text": [
      "Unable to determine country code 2\n",
      "Unable to determine country code 2\n",
      "Unable to determine country code 2\n",
      "Unable to determine country code 2\n",
      "Unable to determine country code 2\n",
      "Unable to determine country code 2\n",
      "Unable to determine country code 2\n",
      "Unable to determine country code 2\n",
      "Unable to determine country code 2\n",
      "Unable to determine country code 2\n",
      "Unable to determine country code 2\n",
      "Unable to determine country code 2\n",
      "Unable to determine country code 2\n",
      "Unable to determine country code 2\n",
      "Unable to determine country code 2\n",
      "Unable to determine country code 2\n",
      "Unable to determine country code 2\n",
      "Unable to determine country code 2\n",
      "Unable to determine country code 2\n",
      "Unable to determine country code 2\n",
      "Unable to determine country code 2\n",
      "Unable to determine country code 2\n",
      "Unable to determine country code 2\n",
      "Unable to determine country code 2\n",
      "Unable to determine country code 2\n",
      "Unable to determine country code 2\n",
      "Unable to determine country code 2\n",
      "Unable to determine country code 2\n",
      "Unable to determine country code 2\n",
      "Unable to determine country code 2\n",
      "Unable to determine country code 2\n",
      "Unable to determine country code 2\n",
      "Unable to determine country code 2\n",
      "Unable to determine country code 2\n",
      "Unable to determine country code 2\n",
      "Unable to determine country code 2\n",
      "Unable to determine country code 2\n",
      "Unable to determine country code 2\n",
      "Unable to determine country code 2\n",
      "Unable to determine country code 2\n",
      "Unable to determine country code 2\n",
      "Unable to determine country code 2\n",
      "Unable to determine country code 2\n",
      "Unable to determine country code 2\n",
      "Unable to determine country code 2\n"
     ]
    }
   ],
   "source": [
    "#Add Two digit country code to GDP data.\n",
    "gdp_data[\"country_code\"]=\"\"\n",
    "#Determine continent for a given country \n",
    "for index, row in gdp_data.iterrows():\n",
    "    try:\n",
    "        # Deriving continent code based on \"2 digit country code\"\n",
    "        country_code2 = pc.country_alpha3_to_country_alpha2(row[\"Country Code\"])\n",
    "        # convert c \"2 digit country code\" to \"3 digit country code\"\n",
    "        gdp_data.loc[index,\"country_code\"] = country_code2\n",
    "               \n",
    "    except(KeyError, IndexError):\n",
    "        print(\"Unable to determine country code 2\")\n",
    "# Identify missing country code2 data in gdp_data SET\n",
    "gdp_data_nobk = gdp_data.loc[gdp_data[\"country_code\"] != '']\n",
    "# Import /Convert and Merge [\"maintain one country code from GDP data and to have 2 digit country code\"]\n",
    "# Combine the data into a single dataset.  \n",
    "covid_gdp_data= pd.merge(covid_data[[\"Country Name\", \"country_code\", \"latitude\",\"longitude\",\"confirmed\", \"dead\", \"recovered\", \"continent\"]] , \n",
    "                         gdp_data_nobk[[\"country_code\", \"2017\", \"2018\", \"2019\", \"Average GDP\"]], \n",
    "                         how=\"left\", on=[\"country_code\", \"country_code\"]\n",
    "                        )\n"
   ]
  },
  {
   "cell_type": "code",
   "execution_count": 47,
   "metadata": {},
   "outputs": [],
   "source": [
    "# Drop all blank data to come up with CLEAN Data and we can use it for futher analysis\n",
    "covid_gdp_data.dropna(inplace=True)\n",
    "# Is there any relation between number of deaths to the GDP of a country...\n",
    "# Heat Map on Covid Data /with Lat & Long\n",
    "# Bar Plot - Continent wise [ Confirmed, Dead &  Recovered ] or Pi Chart  \n",
    "# Scatter plot... for Correlation analysis \n",
    "# Are there any outliers we need to omit ?\n",
    "# do we need BOX plot ?\n",
    "# What T test ? Do we need this (low GPD and High GDP) [ Independent varibale .. to be categorical - GDP - continuous Data]\n",
    "# \n"
   ]
  },
  {
   "cell_type": "code",
   "execution_count": 49,
   "metadata": {},
   "outputs": [
    {
     "output_type": "execute_result",
     "data": {
      "text/plain": [
       "         Country Name country_code   latitude   longitude  confirmed    dead  \\\n",
       "0              Mexico           MX  23.634501 -102.552784    2175462  195908   \n",
       "1              Poland           PL  51.919438   19.145136    1984248   48388   \n",
       "2                Peru           PE  -9.189967  -75.015152    1443521   49706   \n",
       "3         Netherlands           NL  52.132633    5.291266    1179612   16198   \n",
       "5               Chile           CL -35.675147  -71.542969     911469   21988   \n",
       "..                ...          ...        ...         ...        ...     ...   \n",
       "223            Sweden           SE  60.128161   18.643501     738537   13236   \n",
       "224           Denmark           DK  56.263920    9.501785     223415    2397   \n",
       "225  Turks and Caicos           TC  21.694025  -71.797928       2253      15   \n",
       "228            Norway           NO  60.472024    8.468946      84553     648   \n",
       "229      Burkina Faso           BF  12.238333   -1.561593      12450     145   \n",
       "\n",
       "     recovered continent          2017          2018          2019  \\\n",
       "0      1720430        NA  1.158913e+12  1.222349e+12  1.268871e+12   \n",
       "1      1603832        EU  5.265089e+11  5.874117e+11  5.958582e+11   \n",
       "2      1355792        SA  2.110072e+11  2.220450e+11  2.268481e+11   \n",
       "3            0        EU  8.338696e+11  9.140434e+11  9.070509e+11   \n",
       "5       854827        SA  2.770450e+11  2.982580e+11  2.823182e+11   \n",
       "..         ...       ...           ...           ...           ...   \n",
       "223          0        EU  5.410187e+11  5.554554e+11  5.308839e+11   \n",
       "224     211962        EU  3.321211e+11  3.568795e+11  3.501043e+11   \n",
       "225       2109        NA  1.022365e+09  1.113178e+09  1.197415e+09   \n",
       "228      70224        EU  3.983940e+11  4.341666e+11  4.033364e+11   \n",
       "229      11998        AF  1.410696e+10  1.605991e+10  1.599080e+10   \n",
       "\n",
       "      Average GDP  \n",
       "0    1.216711e+12  \n",
       "1    5.699263e+11  \n",
       "2    2.199667e+11  \n",
       "3    8.849880e+11  \n",
       "5    2.858737e+11  \n",
       "..            ...  \n",
       "223  5.424527e+11  \n",
       "224  3.463683e+11  \n",
       "225  1.110986e+09  \n",
       "228  4.119656e+11  \n",
       "229  1.538589e+10  \n",
       "\n",
       "[180 rows x 12 columns]"
      ],
      "text/html": "<div>\n<style scoped>\n    .dataframe tbody tr th:only-of-type {\n        vertical-align: middle;\n    }\n\n    .dataframe tbody tr th {\n        vertical-align: top;\n    }\n\n    .dataframe thead th {\n        text-align: right;\n    }\n</style>\n<table border=\"1\" class=\"dataframe\">\n  <thead>\n    <tr style=\"text-align: right;\">\n      <th></th>\n      <th>Country Name</th>\n      <th>country_code</th>\n      <th>latitude</th>\n      <th>longitude</th>\n      <th>confirmed</th>\n      <th>dead</th>\n      <th>recovered</th>\n      <th>continent</th>\n      <th>2017</th>\n      <th>2018</th>\n      <th>2019</th>\n      <th>Average GDP</th>\n    </tr>\n  </thead>\n  <tbody>\n    <tr>\n      <th>0</th>\n      <td>Mexico</td>\n      <td>MX</td>\n      <td>23.634501</td>\n      <td>-102.552784</td>\n      <td>2175462</td>\n      <td>195908</td>\n      <td>1720430</td>\n      <td>NA</td>\n      <td>1.158913e+12</td>\n      <td>1.222349e+12</td>\n      <td>1.268871e+12</td>\n      <td>1.216711e+12</td>\n    </tr>\n    <tr>\n      <th>1</th>\n      <td>Poland</td>\n      <td>PL</td>\n      <td>51.919438</td>\n      <td>19.145136</td>\n      <td>1984248</td>\n      <td>48388</td>\n      <td>1603832</td>\n      <td>EU</td>\n      <td>5.265089e+11</td>\n      <td>5.874117e+11</td>\n      <td>5.958582e+11</td>\n      <td>5.699263e+11</td>\n    </tr>\n    <tr>\n      <th>2</th>\n      <td>Peru</td>\n      <td>PE</td>\n      <td>-9.189967</td>\n      <td>-75.015152</td>\n      <td>1443521</td>\n      <td>49706</td>\n      <td>1355792</td>\n      <td>SA</td>\n      <td>2.110072e+11</td>\n      <td>2.220450e+11</td>\n      <td>2.268481e+11</td>\n      <td>2.199667e+11</td>\n    </tr>\n    <tr>\n      <th>3</th>\n      <td>Netherlands</td>\n      <td>NL</td>\n      <td>52.132633</td>\n      <td>5.291266</td>\n      <td>1179612</td>\n      <td>16198</td>\n      <td>0</td>\n      <td>EU</td>\n      <td>8.338696e+11</td>\n      <td>9.140434e+11</td>\n      <td>9.070509e+11</td>\n      <td>8.849880e+11</td>\n    </tr>\n    <tr>\n      <th>5</th>\n      <td>Chile</td>\n      <td>CL</td>\n      <td>-35.675147</td>\n      <td>-71.542969</td>\n      <td>911469</td>\n      <td>21988</td>\n      <td>854827</td>\n      <td>SA</td>\n      <td>2.770450e+11</td>\n      <td>2.982580e+11</td>\n      <td>2.823182e+11</td>\n      <td>2.858737e+11</td>\n    </tr>\n    <tr>\n      <th>...</th>\n      <td>...</td>\n      <td>...</td>\n      <td>...</td>\n      <td>...</td>\n      <td>...</td>\n      <td>...</td>\n      <td>...</td>\n      <td>...</td>\n      <td>...</td>\n      <td>...</td>\n      <td>...</td>\n      <td>...</td>\n    </tr>\n    <tr>\n      <th>223</th>\n      <td>Sweden</td>\n      <td>SE</td>\n      <td>60.128161</td>\n      <td>18.643501</td>\n      <td>738537</td>\n      <td>13236</td>\n      <td>0</td>\n      <td>EU</td>\n      <td>5.410187e+11</td>\n      <td>5.554554e+11</td>\n      <td>5.308839e+11</td>\n      <td>5.424527e+11</td>\n    </tr>\n    <tr>\n      <th>224</th>\n      <td>Denmark</td>\n      <td>DK</td>\n      <td>56.263920</td>\n      <td>9.501785</td>\n      <td>223415</td>\n      <td>2397</td>\n      <td>211962</td>\n      <td>EU</td>\n      <td>3.321211e+11</td>\n      <td>3.568795e+11</td>\n      <td>3.501043e+11</td>\n      <td>3.463683e+11</td>\n    </tr>\n    <tr>\n      <th>225</th>\n      <td>Turks and Caicos</td>\n      <td>TC</td>\n      <td>21.694025</td>\n      <td>-71.797928</td>\n      <td>2253</td>\n      <td>15</td>\n      <td>2109</td>\n      <td>NA</td>\n      <td>1.022365e+09</td>\n      <td>1.113178e+09</td>\n      <td>1.197415e+09</td>\n      <td>1.110986e+09</td>\n    </tr>\n    <tr>\n      <th>228</th>\n      <td>Norway</td>\n      <td>NO</td>\n      <td>60.472024</td>\n      <td>8.468946</td>\n      <td>84553</td>\n      <td>648</td>\n      <td>70224</td>\n      <td>EU</td>\n      <td>3.983940e+11</td>\n      <td>4.341666e+11</td>\n      <td>4.033364e+11</td>\n      <td>4.119656e+11</td>\n    </tr>\n    <tr>\n      <th>229</th>\n      <td>Burkina Faso</td>\n      <td>BF</td>\n      <td>12.238333</td>\n      <td>-1.561593</td>\n      <td>12450</td>\n      <td>145</td>\n      <td>11998</td>\n      <td>AF</td>\n      <td>1.410696e+10</td>\n      <td>1.605991e+10</td>\n      <td>1.599080e+10</td>\n      <td>1.538589e+10</td>\n    </tr>\n  </tbody>\n</table>\n<p>180 rows × 12 columns</p>\n</div>"
     },
     "metadata": {},
     "execution_count": 49
    }
   ],
   "source": [
    "covid_gdp_data.head(181)"
   ]
  }
 ]
}