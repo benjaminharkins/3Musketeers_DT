{
 "metadata": {
  "language_info": {
   "codemirror_mode": {
    "name": "ipython",
    "version": 3
   },
   "file_extension": ".py",
   "mimetype": "text/x-python",
   "name": "python",
   "nbconvert_exporter": "python",
   "pygments_lexer": "ipython3",
   "version": "3.8.5-final"
  },
  "orig_nbformat": 2,
  "kernelspec": {
   "name": "python3",
   "display_name": "Python 3.8.5 64-bit (conda)",
   "metadata": {
    "interpreter": {
     "hash": "6d4cbe4fe6a33e4d72c9a2990f07f1aeb20aae8182e4dceeb23ed7c7096de238"
    }
   }
  }
 },
 "nbformat": 4,
 "nbformat_minor": 2,
 "cells": [
  {
   "cell_type": "code",
   "execution_count": 46,
   "metadata": {},
   "outputs": [],
   "source": [
    "# Dependencies and Setup\n",
    "import pandas as pd\n",
    "\n",
    "# Path to raw file\n",
    "gdp_raw_file = \"RAW/API_NY.GDP.MKTP.CD_DS2_en_csv_v2_2055594.csv\"\n",
    "\n",
    "# Read csv into a dataframe\n",
    "gdp_df = pd.read_csv(gdp_raw_file, delimiter=\",\", skiprows=4)\n",
    "\n",
    "# Remove 2020 column and the triling empty column (last 2 columns)\n",
    "gdp_df = gdp_df.iloc[:, :-2]"
   ]
  },
  {
   "cell_type": "code",
   "execution_count": 47,
   "metadata": {},
   "outputs": [],
   "source": [
    "# Drop Indicator columns\n",
    "gdp_df.drop(columns=[\"Indicator Name\",\"Indicator Code\"], inplace=True)"
   ]
  },
  {
   "cell_type": "code",
   "execution_count": 48,
   "metadata": {},
   "outputs": [
    {
     "output_type": "execute_result",
     "data": {
      "text/plain": [
       "     Country Name Country Code          2017          2018          2019  \\\n",
       "1     Afghanistan          AFG  1.886995e+10  1.835388e+10  1.929110e+10   \n",
       "2          Angola          AGO  1.221238e+11  1.013532e+11  8.881570e+10   \n",
       "3         Albania          ALB  1.301969e+10  1.514702e+10  1.527918e+10   \n",
       "4         Andorra          AND  3.000181e+09  3.218316e+09  3.154058e+09   \n",
       "5      Arab World          ARB  2.516121e+12  2.771384e+12  2.817415e+12   \n",
       "..            ...          ...           ...           ...           ...   \n",
       "259        Kosovo          XKX  7.245707e+09  7.942962e+09  7.926134e+09   \n",
       "260   Yemen, Rep.          YEM  2.673614e+10  2.348627e+10  2.258108e+10   \n",
       "261  South Africa          ZAF  3.495541e+11  3.682889e+11  3.514316e+11   \n",
       "262        Zambia          ZMB  2.586817e+10  2.631214e+10  2.330977e+10   \n",
       "263      Zimbabwe          ZWE  2.204090e+10  2.431156e+10  2.144076e+10   \n",
       "\n",
       "      Average GDP  \n",
       "1    1.883831e+10  \n",
       "2    1.040976e+11  \n",
       "3    1.448197e+10  \n",
       "4    3.124185e+09  \n",
       "5    2.701640e+12  \n",
       "..            ...  \n",
       "259  7.704934e+09  \n",
       "260  2.426783e+10  \n",
       "261  3.564249e+11  \n",
       "262  2.516336e+10  \n",
       "263  2.259774e+10  \n",
       "\n",
       "[230 rows x 6 columns]"
      ],
      "text/html": "<div>\n<style scoped>\n    .dataframe tbody tr th:only-of-type {\n        vertical-align: middle;\n    }\n\n    .dataframe tbody tr th {\n        vertical-align: top;\n    }\n\n    .dataframe thead th {\n        text-align: right;\n    }\n</style>\n<table border=\"1\" class=\"dataframe\">\n  <thead>\n    <tr style=\"text-align: right;\">\n      <th></th>\n      <th>Country Name</th>\n      <th>Country Code</th>\n      <th>2017</th>\n      <th>2018</th>\n      <th>2019</th>\n      <th>Average GDP</th>\n    </tr>\n  </thead>\n  <tbody>\n    <tr>\n      <th>1</th>\n      <td>Afghanistan</td>\n      <td>AFG</td>\n      <td>1.886995e+10</td>\n      <td>1.835388e+10</td>\n      <td>1.929110e+10</td>\n      <td>1.883831e+10</td>\n    </tr>\n    <tr>\n      <th>2</th>\n      <td>Angola</td>\n      <td>AGO</td>\n      <td>1.221238e+11</td>\n      <td>1.013532e+11</td>\n      <td>8.881570e+10</td>\n      <td>1.040976e+11</td>\n    </tr>\n    <tr>\n      <th>3</th>\n      <td>Albania</td>\n      <td>ALB</td>\n      <td>1.301969e+10</td>\n      <td>1.514702e+10</td>\n      <td>1.527918e+10</td>\n      <td>1.448197e+10</td>\n    </tr>\n    <tr>\n      <th>4</th>\n      <td>Andorra</td>\n      <td>AND</td>\n      <td>3.000181e+09</td>\n      <td>3.218316e+09</td>\n      <td>3.154058e+09</td>\n      <td>3.124185e+09</td>\n    </tr>\n    <tr>\n      <th>5</th>\n      <td>Arab World</td>\n      <td>ARB</td>\n      <td>2.516121e+12</td>\n      <td>2.771384e+12</td>\n      <td>2.817415e+12</td>\n      <td>2.701640e+12</td>\n    </tr>\n    <tr>\n      <th>...</th>\n      <td>...</td>\n      <td>...</td>\n      <td>...</td>\n      <td>...</td>\n      <td>...</td>\n      <td>...</td>\n    </tr>\n    <tr>\n      <th>259</th>\n      <td>Kosovo</td>\n      <td>XKX</td>\n      <td>7.245707e+09</td>\n      <td>7.942962e+09</td>\n      <td>7.926134e+09</td>\n      <td>7.704934e+09</td>\n    </tr>\n    <tr>\n      <th>260</th>\n      <td>Yemen, Rep.</td>\n      <td>YEM</td>\n      <td>2.673614e+10</td>\n      <td>2.348627e+10</td>\n      <td>2.258108e+10</td>\n      <td>2.426783e+10</td>\n    </tr>\n    <tr>\n      <th>261</th>\n      <td>South Africa</td>\n      <td>ZAF</td>\n      <td>3.495541e+11</td>\n      <td>3.682889e+11</td>\n      <td>3.514316e+11</td>\n      <td>3.564249e+11</td>\n    </tr>\n    <tr>\n      <th>262</th>\n      <td>Zambia</td>\n      <td>ZMB</td>\n      <td>2.586817e+10</td>\n      <td>2.631214e+10</td>\n      <td>2.330977e+10</td>\n      <td>2.516336e+10</td>\n    </tr>\n    <tr>\n      <th>263</th>\n      <td>Zimbabwe</td>\n      <td>ZWE</td>\n      <td>2.204090e+10</td>\n      <td>2.431156e+10</td>\n      <td>2.144076e+10</td>\n      <td>2.259774e+10</td>\n    </tr>\n  </tbody>\n</table>\n<p>230 rows × 6 columns</p>\n</div>"
     },
     "metadata": {},
     "execution_count": 48
    }
   ],
   "source": [
    "# Count on total number of columns in dataframe\n",
    "num_cols = len(gdp_df.columns)\n",
    "\n",
    "# Drop all year cols, only keeping the last 3 years\n",
    "gdp_df.drop(gdp_df.columns[2:(num_cols-3)], axis=1, inplace=True)\n",
    "\n",
    "# Drop rows with incomplete or missing values\n",
    "gdp_df.dropna(inplace=True)\n",
    "\n",
    "# Average the GDP and add as a column to the datafame\n",
    "gdp_df[\"Average GDP\"] = gdp_df[gdp_df.columns[2:5]].mean(axis=1)\n",
    "\n",
    "# Preview DataFrame\n",
    "gdp_df"
   ]
  },
  {
   "cell_type": "code",
   "execution_count": 49,
   "metadata": {},
   "outputs": [],
   "source": [
    "# Output dataframe to csv\n",
    "gdp_df.to_csv(\"Resources/gdp_3y_data.csv\")"
   ]
  }
 ]
}